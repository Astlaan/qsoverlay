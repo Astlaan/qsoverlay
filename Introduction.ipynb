{
 "cells": [
  {
   "cell_type": "markdown",
   "metadata": {},
   "source": [
    "# Introduction to qsoverlay\n",
    "\n",
    "This notebook introduces the quantumsim_overlay (qsoverlay) package, and demonstrates how to use it on a simple Bell state preparation example.\n",
    "\n",
    "Qsoverlay is a package to remove some of the overhead needed in parametrizing a circuit for a simulation with noise. In particular, it keeps track of the time and error parameters in a circuit, which otherwise need to be done by the user.\n",
    "\n",
    "Qsoverlay consists of two parts - the circuit_builder, which creates quantumsim circuits, and a set of setup files which dictate how gates look in a given experimental model. "
   ]
  },
  {
   "cell_type": "code",
   "execution_count": 1,
   "metadata": {
    "collapsed": true
   },
   "outputs": [],
   "source": [
    "import numpy as np"
   ]
  },
  {
   "cell_type": "markdown",
   "metadata": {},
   "source": [
    "Before we start making a circuit, we need to define the (simulated) hardware that we will work on. The hardware needs some qubits and gates (there are a few more optional pieces you can add depending on how realistic you want to get). The qubits themselves need labels, and the rest of the defining is done using a setup file, which is specific to whatever physical implementation you want to simulate. \n",
    "\n",
    "We're going to simulate our experiment on models of the transmon qubits in DiCarloLab, so we use DiCarlo_setup. This has a quick_setup function that should be sufficient for any simulation where we want symmetric qubits."
   ]
  },
  {
   "cell_type": "code",
   "execution_count": 2,
   "metadata": {
    "collapsed": false
   },
   "outputs": [],
   "source": [
    "from qsoverlay import DiCarlo_setup\n",
    "qubit_list = ['swap','cp']\n",
    "setup = DiCarlo_setup.quick_setup(qubit_list)"
   ]
  },
  {
   "cell_type": "markdown",
   "metadata": {},
   "source": [
    "The setup here contains a few things. Importantly for us right now it contains a dictionary of allowed gates with some parameters (e.g. the length of the gate), and for each of the qubits that we've specified, a dictionary of qubit parameters - things such as T1, T2, etc."
   ]
  },
  {
   "cell_type": "code",
   "execution_count": 3,
   "metadata": {
    "collapsed": false
   },
   "outputs": [
    {
     "name": "stdout",
     "output_type": "stream",
     "text": [
      "dict_keys(['swap', 'cp'])\n",
      "dict_keys(['RX', 'ISwapRotation', 'ResetGate', 'RotateY', 'CZ', 'RotateZ', 'Measure', 'RotateX', 'C-Phase', 'RZ', 'RY', 'ISwap'])\n"
     ]
    }
   ],
   "source": [
    "print(setup['qubit_dic'].keys())\n",
    "\n",
    "# Note that some gates can have multiple handles - RotateX and RX\n",
    "# have the exact same function here.\n",
    "print(setup['gate_dic'].keys())"
   ]
  },
  {
   "cell_type": "markdown",
   "metadata": {},
   "source": [
    "Circuits are made through a builder, which takes care of everything except for defining the gates."
   ]
  },
  {
   "cell_type": "code",
   "execution_count": 8,
   "metadata": {
    "collapsed": false
   },
   "outputs": [],
   "source": [
    "from qsoverlay.circuit_builder import Builder\n",
    "\n",
    "# Make the builder with the chosen setup.\n",
    "b = Builder(**setup)\n",
    "\n",
    "# Create the circuit\n",
    "b.add_gate('RotateY',['swap'],angle=np.pi/2)\n",
    "#b.add_gate('RotateY',['cp'],angle=np.pi/2)\n",
    "b.add_gate('CZ',['cp','swap'])\n",
    "#b.add_gate('RotateY',['cp'],angle=-np.pi/2)\n",
    "\n",
    "# Get the quantumsim circuit after waiting gates are added.\n",
    "b.finalize()\n",
    "bell_circuit = b.circuit"
   ]
  },
  {
   "cell_type": "markdown",
   "metadata": {},
   "source": [
    "The circuit is now a regular quantumsim circuit which can be plotted"
   ]
  },
  {
   "cell_type": "code",
   "execution_count": 9,
   "metadata": {
    "collapsed": false
   },
   "outputs": [
    {
     "data": {
      "text/plain": [
       "(<matplotlib.figure.Figure at 0x7f8378c2f358>,\n",
       " <matplotlib.axes._subplots.AxesSubplot at 0x7f83744c8908>)"
      ]
     },
     "execution_count": 9,
     "metadata": {},
     "output_type": "execute_result"
    },
    {
     "data": {
      "image/png": "[encoded data removed]",
      "text/plain": [
       "<matplotlib.figure.Figure at 0x7f8378c2f358>"
      ]
     },
     "metadata": {},
     "output_type": "display_data"
    }
   ],
   "source": [
    "%matplotlib inline\n",
    "bell_circuit.plot()"
   ]
  },
  {
   "cell_type": "markdown",
   "metadata": {},
   "source": [
    "And applied to a SDM"
   ]
  },
  {
   "cell_type": "code",
   "execution_count": 10,
   "metadata": {
    "collapsed": false
   },
   "outputs": [],
   "source": [
    "from quantumsim.sparsedm import SparseDM\n",
    "bell_state = SparseDM(bell_circuit.get_qubit_names())\n",
    "bell_circuit.apply_to(bell_state)"
   ]
  },
  {
   "cell_type": "code",
   "execution_count": 15,
   "metadata": {
    "collapsed": false
   },
   "outputs": [
    {
     "data": {
      "text/plain": [
       "[({'cp': 0, 'swap': 0}, 0.50083263927453159),\n",
       " ({'cp': 1, 'swap': 0}, 4.2721023348834938e-17),\n",
       " ({'cp': 0, 'swap': 1}, 0.49916736072547024),\n",
       " ({'cp': 1, 'swap': 1}, 4.2578975091197787e-17)]"
      ]
     },
     "execution_count": 15,
     "metadata": {},
     "output_type": "execute_result"
    }
   ],
   "source": [
    "bell_state.peak_multiple_measurements(['cp','swap'])"
   ]
  },
  {
   "cell_type": "markdown",
   "metadata": {},
   "source": [
    "And the full density matrix can be obtained"
   ]
  },
  {
   "cell_type": "code",
   "execution_count": 11,
   "metadata": {
    "collapsed": false
   },
   "outputs": [
    {
     "data": {
      "text/plain": [
       "array([[ 0.501+0.j,  0.000+0.j,  0.499+0.j,  0.000+0.j],\n",
       "       [ 0.000+0.j,  0.000+0.j,  0.000+0.j,  0.000+0.j],\n",
       "       [ 0.499+0.j,  0.000+0.j,  0.499+0.j,  0.000+0.j],\n",
       "       [ 0.000+0.j,  0.000+0.j,  0.000+0.j,  0.000+0.j]])"
      ]
     },
     "execution_count": 11,
     "metadata": {},
     "output_type": "execute_result"
    }
   ],
   "source": [
    "bell_state.full_dm.to_array().round(3)"
   ]
  },
  {
   "cell_type": "markdown",
   "metadata": {},
   "source": [
    "In addition to the above, there is one nice addition to qsoverlay: the ability to save and reload circuits with minimal overhead. The representation of our previous circuit can be found in the 'circuit_list' of our builder"
   ]
  },
  {
   "cell_type": "code",
   "execution_count": 8,
   "metadata": {
    "collapsed": false
   },
   "outputs": [
    {
     "name": "stdout",
     "output_type": "stream",
     "text": [
      "[('RotateY', 'swap', 1.5707963267948966), ('RotateY', 'cp', 1.5707963267948966), ('CZ', 'cp', 'swap'), ('RotateY', 'cp', -1.5707963267948966)]\n"
     ]
    }
   ],
   "source": [
    "circuit_list = b.circuit_list\n",
    "print(circuit_list)"
   ]
  },
  {
   "cell_type": "markdown",
   "metadata": {},
   "source": [
    "This can be immediately re-inserted into a new builder. Here, we're going to do this with the noise flag off, meaning that our qubits are treated as perfect"
   ]
  },
  {
   "cell_type": "code",
   "execution_count": 9,
   "metadata": {
    "collapsed": false
   },
   "outputs": [
    {
     "data": {
      "image/png": "[encoded data removed]",
      "text/plain": [
       "<matplotlib.figure.Figure at 0x7f714aa41128>"
      ]
     },
     "metadata": {},
     "output_type": "display_data"
    }
   ],
   "source": [
    "setup = DiCarlo_setup.quick_setup(qubit_list)\n",
    "b2 = Builder(**setup)\n",
    "\n",
    "# Replacing the entire input for the circuit\n",
    "b2.add_circuit_list(circuit_list)\n",
    "\n",
    "# Get circuit and apply to state\n",
    "b2.finalize()\n",
    "new_bell_circuit = b2.circuit\n",
    "new_bell_circuit.plot()\n",
    "new_bell_state = SparseDM(new_bell_circuit.get_qubit_names())\n",
    "new_bell_circuit.apply_to(new_bell_state)"
   ]
  },
  {
   "cell_type": "markdown",
   "metadata": {},
   "source": [
    "To check that these are the same, compare the density matrices from the two"
   ]
  },
  {
   "cell_type": "code",
   "execution_count": 10,
   "metadata": {
    "collapsed": false
   },
   "outputs": [
    {
     "name": "stdout",
     "output_type": "stream",
     "text": [
      "0.0\n"
     ]
    }
   ],
   "source": [
    "print(np.linalg.norm(new_bell_state.full_dm.to_array()-bell_state.full_dm.to_array()))"
   ]
  },
  {
   "cell_type": "markdown",
   "metadata": {},
   "source": [
    "We can also recreate the same circuit with different parameters. Let's try a new simulation with qubits that have a T1 and T2 of 1us instead of 30us (the standard), and compare this to a perfect circuit (to see the bell state fidelity)"
   ]
  },
  {
   "cell_type": "code",
   "execution_count": 14,
   "metadata": {
    "collapsed": false
   },
   "outputs": [],
   "source": [
    "# T1 is changed from the default in the setup; all times are given in nanoseconds\n",
    "setup_perfect = DiCarlo_setup.quick_setup(qubit_list, noise_flag=False)\n",
    "setup_noisy = DiCarlo_setup.quick_setup(qubit_list, t1=1000, t2=1000)\n",
    "\n",
    "b_perfect = Builder(**setup_perfect)\n",
    "b_noisy = Builder(**setup_noisy)\n",
    "\n",
    "# Replacing the entire input for the circuit\n",
    "b_perfect.add_circuit_list(circuit_list)\n",
    "b_noisy.add_circuit_list(circuit_list)\n",
    "\n",
    "# Get circuit and apply to state\n",
    "b_perfect.finalize()\n",
    "b_noisy.finalize()\n",
    "worse_bell_circuit = b_noisy.circuit\n",
    "worse_bell_state = SparseDM(worse_bell_circuit.get_qubit_names())\n",
    "worse_bell_circuit.apply_to(worse_bell_state)\n",
    "perfect_bell_circuit = b_perfect.circuit\n",
    "perfect_bell_state = SparseDM(perfect_bell_circuit.get_qubit_names())\n",
    "perfect_bell_circuit.apply_to(perfect_bell_state)"
   ]
  },
  {
   "cell_type": "code",
   "execution_count": 15,
   "metadata": {
    "collapsed": false
   },
   "outputs": [
    {
     "name": "stdout",
     "output_type": "stream",
     "text": [
      "Bell state fidelity:  0.914780943816\n"
     ]
    }
   ],
   "source": [
    "#fidelity hack taken from the quantumsim tutorial\n",
    "import quantumsim\n",
    "if quantumsim.sparsedm.using_gpu == False:\n",
    "    print(\"Bell state fidelity: \", np.dot(worse_bell_state.full_dm.dm.ravel(), perfect_bell_state.full_dm.dm.ravel()))"
   ]
  }
 ],
 "metadata": {
  "kernelspec": {
   "display_name": "Python 3",
   "language": "python",
   "name": "python3"
  },
  "language_info": {
   "codemirror_mode": {
    "name": "ipython",
    "version": 3
   },
   "file_extension": ".py",
   "mimetype": "text/x-python",
   "name": "python",
   "nbconvert_exporter": "python",
   "pygments_lexer": "ipython3",
   "version": "3.5.2"
  }
 },
 "nbformat": 4,
 "nbformat_minor": 0
}
