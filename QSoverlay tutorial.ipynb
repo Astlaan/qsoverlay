{
 "cells": [
  {
   "cell_type": "markdown",
   "metadata": {},
   "source": [
    "# QSoverlay tutorial"
   ]
  },
  {
   "cell_type": "markdown",
   "metadata": {},
   "source": [
    "## What is QSoverlay"
   ]
  },
  {
   "cell_type": "markdown",
   "metadata": {},
   "source": [
    "- A bunch of helper functions to make quantumsim slightly easier to use.\n",
    "- Takes care of timing, experimental noise, and gate decomposition.\n",
    "- Directly imports qasm.\n",
    "- Allows importing and saving of experimental setup data and circuits.\n",
    "- To be eventually incorporated in quantumsim (separate to prevent interference)."
   ]
  },
  {
   "cell_type": "code",
   "execution_count": 1,
   "metadata": {},
   "outputs": [],
   "source": [
    "import numpy as np\n",
    "from matplotlib import pyplot as plt\n",
    "%matplotlib inline"
   ]
  },
  {
   "cell_type": "markdown",
   "metadata": {},
   "source": [
    "## Basic use of QSoverlay"
   ]
  },
  {
   "cell_type": "markdown",
   "metadata": {},
   "source": [
    "### Setup files"
   ]
  },
  {
   "cell_type": "markdown",
   "metadata": {},
   "source": [
    "QSoverlay's first tool is the setup file. This contains the list of allowed gates for the experiment, and details about the error model for each such gate.\n",
    "\n",
    "Note that 'allowed gates' includes gates that are decomposed under the hood into the actual gates that are performed in an experiment (e.g. CNOT).\n",
    "\n",
    "Currently, the easiest way to generate a setup file is to use a 'quick_setup' function, which uses standard parameters (i.e. those from arXiv:1703.04136, but with incoherent 2-qubit dephasing) that may be adjusted when the function is called."
   ]
  },
  {
   "cell_type": "code",
   "execution_count": 2,
   "metadata": {},
   "outputs": [],
   "source": [
    "from qsoverlay.DiCarlo_setup import quick_setup\n",
    "\n",
    "# Lets set the t1 differently (25us instead of 30us)\n",
    "t1 = 25000\n",
    "# We need to define which qubits we have\n",
    "qubit_list = ['q1', 'q2', 'q3']\n",
    "connectivity_dic = {'q1': ['q2'], 'q2':['q1','q3'], 'q3':['q2']}\n",
    "setup = quick_setup(qubit_list=qubit_list, t1=t1, connectivity_dic=connectivity_dic)"
   ]
  },
  {
   "cell_type": "markdown",
   "metadata": {},
   "source": [
    "There are two other parameters available to quick_setup: the 'noise_flag' parameter, which turns off noise entirely when set to false, and the 'scale' parameter, which multiplies all error rates and divides T1 and T2 (making it a first order approximation to the statement 'make qubits X% better/worse')\n",
    "\n",
    "Currently making a setup file isn't the easiest thing to do (improving this is high on the TODO list). But, setup files can be stored and loaded as json files."
   ]
  },
  {
   "cell_type": "code",
   "execution_count": 26,
   "metadata": {},
   "outputs": [],
   "source": [
    "from qsoverlay import Setup  # The root class returned by quick_setup\n",
    "setup.save(filename='test_setup.json')\n",
    "new_setup = Setup(filename='test_setup.json')"
   ]
  },
  {
   "cell_type": "markdown",
   "metadata": {},
   "source": [
    "### The builder\n",
    "The builder is the bit of qsoverlay that makes quantumsim circuits from a theoretical description using the setup file."
   ]
  },
  {
   "cell_type": "code",
   "execution_count": 27,
   "metadata": {},
   "outputs": [],
   "source": [
    "from qsoverlay import Builder\n",
    "b = Builder(new_setup)"
   ]
  },
  {
   "cell_type": "markdown",
   "metadata": {},
   "source": [
    "Let's use this to make a 2-qubit VQE circuit.\n",
    "\n",
    "When we make this circuit, we want to leave some of our gates with adjustable free parameters. To do this, we flag them in the builder to be returned."
   ]
  },
  {
   "cell_type": "code",
   "execution_count": 28,
   "metadata": {},
   "outputs": [
    {
     "data": {
      "text/plain": [
       "(<Figure size 792x360 with 1 Axes>,\n",
       " <matplotlib.axes._subplots.AxesSubplot at 0x7f8252f0afd0>)"
      ]
     },
     "execution_count": 28,
     "metadata": {},
     "output_type": "execute_result"
    },
    {
     "data": {
      "image/png": "[encoded data removed]",
      "text/plain": [
       "<Figure size 792x360 with 1 Axes>"
      ]
     },
     "metadata": {},
     "output_type": "display_data"
    }
   ],
   "source": [
    "adjustable_gates = []\n",
    "b.add_gate('Ry',['q1'],angle=np.pi)  # This angle is fixed\n",
    "\n",
    "# As we will adjust the angle later, fix it to whatever we want now.\n",
    "adjustable_gates.append(\n",
    "    b.add_gate('ISwapRotation', ['q1','q2'], angle=np.pi/6, return_flag=1))\n",
    "\n",
    "# There is another format you can use to add gates, which is a bit shorter\n",
    "adjustable_gates.append(('Rz', 'q1', np.pi/3, 1) > b)\n",
    "\n",
    "b.finalize()\n",
    "plt.figure(figsize=(11,5))\n",
    "b.circuit.plot()"
   ]
  },
  {
   "cell_type": "markdown",
   "metadata": {},
   "source": [
    "### How to time gates\n",
    "The builder keeps a 'time' for each qubit (starting at 0), and increments this by the time taken for every gate that is added. The gate in turn is initialized with knowledge of this time, as well as any parameters that we know it needs (e.g. dephasing probabilities, readout infidelity, etc)."
   ]
  },
  {
   "cell_type": "markdown",
   "metadata": {},
   "source": [
    "As well as generating all this, the builder also stores a list of instructions that can be saved or used to reconstruct the circuit."
   ]
  },
  {
   "cell_type": "code",
   "execution_count": 29,
   "metadata": {},
   "outputs": [
    {
     "name": "stdout",
     "output_type": "stream",
     "text": [
      "Number of new adjustable gates:  2\n"
     ]
    },
    {
     "data": {
      "text/plain": [
       "(<Figure size 792x360 with 1 Axes>,\n",
       " <matplotlib.axes._subplots.AxesSubplot at 0x7f8252b17470>)"
      ]
     },
     "execution_count": 29,
     "metadata": {},
     "output_type": "execute_result"
    },
    {
     "data": {
      "image/png": "[encoded data removed]",
      "text/plain": [
       "<Figure size 792x360 with 1 Axes>"
      ]
     },
     "metadata": {},
     "output_type": "display_data"
    }
   ],
   "source": [
    "b2 = Builder(new_setup)\n",
    "adjustable_gates2 = b2.add_circuit_list(b.circuit_list)\n",
    "print('Number of new adjustable gates: ',len(adjustable_gates2))\n",
    "b2.finalize()\n",
    "plt.figure(figsize=(11,5))\n",
    "b2.circuit.plot()"
   ]
  },
  {
   "cell_type": "markdown",
   "metadata": {},
   "source": [
    "The builder also accepts two standard forms of qasm - either in the form:\n",
    "- gate_name qubit1 \\[qubit2 ...\\] param1 \\[param2 ...\\] (default)\n",
    "- gate_name param1 \\[param2 ...\\] qubit1 \\[qubit2 ...\\] (set qubits_first=False)\n",
    "\n",
    "Note though that this doesn't support returning the adjustable gates as described above"
   ]
  },
  {
   "cell_type": "code",
   "execution_count": 30,
   "metadata": {},
   "outputs": [
    {
     "data": {
      "text/plain": [
       "(<Figure size 792x360 with 1 Axes>,\n",
       " <matplotlib.axes._subplots.AxesSubplot at 0x7f8252bc5828>)"
      ]
     },
     "execution_count": 30,
     "metadata": {},
     "output_type": "execute_result"
    },
    {
     "data": {
      "image/png": "[encoded data removed]",
      "text/plain": [
       "<Figure size 792x360 with 1 Axes>"
      ]
     },
     "metadata": {},
     "output_type": "display_data"
    }
   ],
   "source": [
    "qasm_list = [\n",
    "    'Ry q1 ' + str(np.pi),\n",
    "    'ISwapRotation q1 q2 ' + str(np.pi/6),\n",
    "    'Rz q1 ' + str(np.pi/3),\n",
    "]\n",
    "b2.new_circuit()  # You can reset the builder instead of making a new one\n",
    "b2.add_qasm(qasm_list)\n",
    "b2.finalize()\n",
    "plt.figure(figsize=(11,5))\n",
    "b2.circuit.plot()"
   ]
  },
  {
   "cell_type": "markdown",
   "metadata": {},
   "source": [
    "The builder also has the ability to decompose gates into their underlying primitives for the experimental setup. The amount of gates this works for is extremely limited though, but we can try to make a Bell state via a Hadamard + CNOT"
   ]
  },
  {
   "cell_type": "code",
   "execution_count": 31,
   "metadata": {},
   "outputs": [
    {
     "data": {
      "text/plain": [
       "(<Figure size 792x360 with 1 Axes>,\n",
       " <matplotlib.axes._subplots.AxesSubplot at 0x7f8252c10a58>)"
      ]
     },
     "execution_count": 31,
     "metadata": {},
     "output_type": "execute_result"
    },
    {
     "data": {
      "image/png": "[encoded data removed]",
      "text/plain": [
       "<Figure size 792x360 with 1 Axes>"
      ]
     },
     "metadata": {},
     "output_type": "display_data"
    }
   ],
   "source": [
    "qasm_list = [\n",
    "    'Had q1',\n",
    "    'CNOT q1 q2',\n",
    "]\n",
    "b2.new_circuit()  # You can reset the builder instead of making a new one\n",
    "b2.add_qasm(qasm_list)\n",
    "b2.finalize()\n",
    "plt.figure(figsize=(11,5))\n",
    "b2.circuit.plot()"
   ]
  },
  {
   "cell_type": "markdown",
   "metadata": {},
   "source": [
    "### The experiment controller\n",
    "Beyond making circuits, qsoverlay also gives a container to hold and save multiple circuits, make states, apply circuits to states, and do limited tomography on states."
   ]
  },
  {
   "cell_type": "code",
   "execution_count": 9,
   "metadata": {},
   "outputs": [],
   "source": [
    "from qsoverlay import Controller\n",
    "\n",
    "# We store the details of multiple circuits in dictionaries,\n",
    "# right now we have only one.\n",
    "circuits = {'VQE': b.circuit}\n",
    "circuit_lists = {'VQE': b.circuit_list}  # This is only needed for saving\n",
    "adjust_gates = {'VQE': adjustable_gates}  # Not every circuit needs to be here.\n",
    "\n",
    "# If we are doing measurements, we should also write the list\n",
    "# of bits that receive measurement output.\n",
    "mbits = []\n",
    "\n",
    "# One additional thing we have the option of doing:\n",
    "# If we want one parameter to control the angle of multiple gates,\n",
    "# this can be controlled via an 'angle_convert_matrix'.\n",
    "angle_convert_matrices = {}\n",
    "\n",
    "c = Controller(qubits=qubit_list,\n",
    "               setup=setup,  # Only needed for saving\n",
    "               circuits=circuits,\n",
    "               circuit_lists=circuit_lists,\n",
    "               mbits=mbits,\n",
    "               angle_convert_matrices=angle_convert_matrices,\n",
    "               adjust_gates=adjust_gates)"
   ]
  },
  {
   "cell_type": "markdown",
   "metadata": {},
   "source": [
    "Controllers can be saved and loaded"
   ]
  },
  {
   "cell_type": "code",
   "execution_count": 32,
   "metadata": {},
   "outputs": [],
   "source": [
    "c.save('test_controller.json')\n",
    "\n",
    "# The controller recreates circuits using a setup file,\n",
    "# allowing for the same experiment to be run with multiple setups.\n",
    "c2 = Controller(filename='test_controller.json',setup='test_setup.json')"
   ]
  },
  {
   "cell_type": "markdown",
   "metadata": {},
   "source": [
    "It's pretty simple to run a VQE experiment with a controller"
   ]
  },
  {
   "cell_type": "code",
   "execution_count": 33,
   "metadata": {},
   "outputs": [
    {
     "name": "stdout",
     "output_type": "stream",
     "text": [
      "[-0.99  0.    0.   -0.99  1.  ]\n",
      "[-0.99  0.    0.    1.   -0.99]\n"
     ]
    }
   ],
   "source": [
    "# The measurements we need to take for QPE\n",
    "msmts = [\n",
    "    {'q1': 'Z', 'q2': 'Z'},\n",
    "    {'q1': 'X', 'q2': 'X'},\n",
    "    {'q1': 'Y', 'q2': 'Y'},\n",
    "    {'q1': 'Z'},\n",
    "    {'q2': 'Z'}\n",
    "]\n",
    "\n",
    "def VQE_experiment(*angles):\n",
    "    c2.make_state()\n",
    "    ('VQE', *angles) > c2  # Runs the circuit with angles fixed to pi/2\n",
    "    return c2.get_expectation_values(msmts, num_repetitions=None)\n",
    "\n",
    "print(VQE_experiment(0,0).round(2))\n",
    "print(VQE_experiment(np.pi/2,np.pi/2).round(2))"
   ]
  },
  {
   "cell_type": "code",
   "execution_count": 34,
   "metadata": {},
   "outputs": [
    {
     "name": "stdout",
     "output_type": "stream",
     "text": [
      "VQE minimum =  -2.6738846480360956  True ev =  -2.7\n"
     ]
    }
   ],
   "source": [
    "# Lets try minimizing this on some system\n",
    "h_vec = np.array([1.9, 0.5, 0.3, 0.6, 0.6])\n",
    "def VQE_minimization(angles):\n",
    "    m_vec = VQE_experiment(*angles)\n",
    "    return np.dot(h_vec, m_vec)\n",
    "\n",
    "from scipy.optimize import minimize\n",
    "res = minimize(VQE_minimization, x0=[np.pi/2,np.pi/2])\n",
    "\n",
    "# See how well we did\n",
    "sx = np.array([[0,1],[1,0]])\n",
    "sy = np.array([[0,-1j],[1j,0]])\n",
    "sz = np.array([[1,0],[0,-1]])\n",
    "s0 = np.array([[1,0],[0,1]])\n",
    "ham = h_vec[0] * np.kron(sz,sz) +\\\n",
    "    h_vec[1] * np.kron(sx,sx) +\\\n",
    "    h_vec[2] * np.kron(sy,sy) +\\\n",
    "    h_vec[3] * np.kron(sz,s0) +\\\n",
    "    h_vec[4] * np.kron(s0,sz)\n",
    "\n",
    "evs = np.linalg.eigvalsh(ham)\n",
    "\n",
    "print('VQE minimum = ',res['fun'], ' True ev = ', min(evs))"
   ]
  },
  {
   "cell_type": "markdown",
   "metadata": {},
   "source": [
    "## Future plans and todo\n",
    "\n",
    "- Integrate with quantumsim.\n",
    "- Make toolbox to create setup files (ideally so that an experimentalist can make a setup file to give to a theorist with minimal effort).\n",
    "- Measurement and conditional gates currently very hacked together - needs fix (probably within the circuit module, as the RNG for a sampler needs to be made circuit-wide instead of gate-wide).\n",
    "- Currently no routines to compile single qubit gates, teleport two-qubit gates etc\n",
    "- Currently not scheduling qubits around 2-qubit gates properly (i.e. noting which qubits are away from their sweet-spot, etc).\n",
    "- Currently no good way of setting 2-qubit gate parameters independently (drawn from qubit error parameters).\n",
    "\n",
    "## Questions for the audience\n",
    "\n",
    "- Are there any other formats I should take for circuit input?\n",
    "- The controller save file seems like a good way of linking this to experiment, how can we best incorporate this?\n",
    "- How can I best approximate noisy tomography?"
   ]
  }
 ],
 "metadata": {
  "kernelspec": {
   "display_name": "Python 3",
   "language": "python",
   "name": "python3"
  },
  "language_info": {
   "codemirror_mode": {
    "name": "ipython",
    "version": 3
   },
   "file_extension": ".py",
   "mimetype": "text/x-python",
   "name": "python",
   "nbconvert_exporter": "python",
   "pygments_lexer": "ipython3",
   "version": "3.6.3"
  }
 },
 "nbformat": 4,
 "nbformat_minor": 2
}
